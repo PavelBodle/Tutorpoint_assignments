{
  "cells": [
    {
      "cell_type": "markdown",
      "metadata": {
        "id": "view-in-github",
        "colab_type": "text"
      },
      "source": [
        "<a href=\"https://colab.research.google.com/github/PavelBodle/Tutorpoint_assignments/blob/main/assignment_file_30-09-2022.ipynb\" target=\"_parent\"><img src=\"https://colab.research.google.com/assets/colab-badge.svg\" alt=\"Open In Colab\"/></a>"
      ]
    },
    {
      "cell_type": "markdown",
      "metadata": {
        "id": "ekCK9hXyPwk8"
      },
      "source": [
        "### INSTRUCTIONS - Assignment 1\n",
        "\n",
        "- Submit only the ipynb file with file format main_{UBID}.ipynb (e.g. main_50370999.ipynb), Submission other than this format will get zero.\n",
        "- Don't submit the zip folder.\n",
        "- We will run all the cells from start to finish, if we get any error or cell stuck for more than 20 sec. will get zero for that problem. So make sure ipynb file run from start to finish before submitting.\n",
        "\n",
        "- Refrain from using Sklearn library unless explicitly mentioned.\n",
        "\n",
        "- Don't import additional libraries in the file.\n"
      ],
      "id": "ekCK9hXyPwk8"
    },
    {
      "cell_type": "code",
      "execution_count": 64,
      "metadata": {
        "id": "planned-perry"
      },
      "outputs": [],
      "source": [
        "# imports\n",
        "import pandas as pd\n",
        "import numpy as np\n",
        "from sklearn.model_selection import train_test_split\n",
        "import matplotlib.pyplot as plt\n",
        "\n",
        "%matplotlib inline"
      ],
      "id": "planned-perry"
    },
    {
      "cell_type": "markdown",
      "metadata": {
        "id": "traditional-tissue"
      },
      "source": [
        "#### STEP 1 - Load Data"
      ],
      "id": "traditional-tissue"
    },
    {
      "cell_type": "code",
      "execution_count": 65,
      "metadata": {
        "id": "measured-report",
        "colab": {
          "base_uri": "https://localhost:8080/",
          "height": 363
        },
        "outputId": "2c4d19c1-fd21-46cb-b002-6bf67d41ff17"
      },
      "outputs": [
        {
          "output_type": "execute_result",
          "data": {
            "text/plain": [
              "   sepal_length  sepal_width  petal_length  petal_width      species\n",
              "0           5.1          3.5           1.4          0.2  Iris-setosa\n",
              "1           4.9          3.0           1.4          0.2  Iris-setosa\n",
              "2           4.7          3.2           1.3          0.2  Iris-setosa\n",
              "3           4.6          3.1           1.5          0.2  Iris-setosa\n",
              "4           5.0          3.6           1.4          0.2  Iris-setosa\n",
              "5           5.4          3.9           1.7          0.4  Iris-setosa\n",
              "6           4.6          3.4           1.4          0.3  Iris-setosa\n",
              "7           5.0          3.4           1.5          0.2  Iris-setosa\n",
              "8           4.4          2.9           1.4          0.2  Iris-setosa\n",
              "9           4.9          3.1           1.5          0.1  Iris-setosa"
            ],
            "text/html": [
              "\n",
              "  <div id=\"df-20079ce6-6f92-4370-b057-84745a5da9a8\">\n",
              "    <div class=\"colab-df-container\">\n",
              "      <div>\n",
              "<style scoped>\n",
              "    .dataframe tbody tr th:only-of-type {\n",
              "        vertical-align: middle;\n",
              "    }\n",
              "\n",
              "    .dataframe tbody tr th {\n",
              "        vertical-align: top;\n",
              "    }\n",
              "\n",
              "    .dataframe thead th {\n",
              "        text-align: right;\n",
              "    }\n",
              "</style>\n",
              "<table border=\"1\" class=\"dataframe\">\n",
              "  <thead>\n",
              "    <tr style=\"text-align: right;\">\n",
              "      <th></th>\n",
              "      <th>sepal_length</th>\n",
              "      <th>sepal_width</th>\n",
              "      <th>petal_length</th>\n",
              "      <th>petal_width</th>\n",
              "      <th>species</th>\n",
              "    </tr>\n",
              "  </thead>\n",
              "  <tbody>\n",
              "    <tr>\n",
              "      <th>0</th>\n",
              "      <td>5.1</td>\n",
              "      <td>3.5</td>\n",
              "      <td>1.4</td>\n",
              "      <td>0.2</td>\n",
              "      <td>Iris-setosa</td>\n",
              "    </tr>\n",
              "    <tr>\n",
              "      <th>1</th>\n",
              "      <td>4.9</td>\n",
              "      <td>3.0</td>\n",
              "      <td>1.4</td>\n",
              "      <td>0.2</td>\n",
              "      <td>Iris-setosa</td>\n",
              "    </tr>\n",
              "    <tr>\n",
              "      <th>2</th>\n",
              "      <td>4.7</td>\n",
              "      <td>3.2</td>\n",
              "      <td>1.3</td>\n",
              "      <td>0.2</td>\n",
              "      <td>Iris-setosa</td>\n",
              "    </tr>\n",
              "    <tr>\n",
              "      <th>3</th>\n",
              "      <td>4.6</td>\n",
              "      <td>3.1</td>\n",
              "      <td>1.5</td>\n",
              "      <td>0.2</td>\n",
              "      <td>Iris-setosa</td>\n",
              "    </tr>\n",
              "    <tr>\n",
              "      <th>4</th>\n",
              "      <td>5.0</td>\n",
              "      <td>3.6</td>\n",
              "      <td>1.4</td>\n",
              "      <td>0.2</td>\n",
              "      <td>Iris-setosa</td>\n",
              "    </tr>\n",
              "    <tr>\n",
              "      <th>5</th>\n",
              "      <td>5.4</td>\n",
              "      <td>3.9</td>\n",
              "      <td>1.7</td>\n",
              "      <td>0.4</td>\n",
              "      <td>Iris-setosa</td>\n",
              "    </tr>\n",
              "    <tr>\n",
              "      <th>6</th>\n",
              "      <td>4.6</td>\n",
              "      <td>3.4</td>\n",
              "      <td>1.4</td>\n",
              "      <td>0.3</td>\n",
              "      <td>Iris-setosa</td>\n",
              "    </tr>\n",
              "    <tr>\n",
              "      <th>7</th>\n",
              "      <td>5.0</td>\n",
              "      <td>3.4</td>\n",
              "      <td>1.5</td>\n",
              "      <td>0.2</td>\n",
              "      <td>Iris-setosa</td>\n",
              "    </tr>\n",
              "    <tr>\n",
              "      <th>8</th>\n",
              "      <td>4.4</td>\n",
              "      <td>2.9</td>\n",
              "      <td>1.4</td>\n",
              "      <td>0.2</td>\n",
              "      <td>Iris-setosa</td>\n",
              "    </tr>\n",
              "    <tr>\n",
              "      <th>9</th>\n",
              "      <td>4.9</td>\n",
              "      <td>3.1</td>\n",
              "      <td>1.5</td>\n",
              "      <td>0.1</td>\n",
              "      <td>Iris-setosa</td>\n",
              "    </tr>\n",
              "  </tbody>\n",
              "</table>\n",
              "</div>\n",
              "      <button class=\"colab-df-convert\" onclick=\"convertToInteractive('df-20079ce6-6f92-4370-b057-84745a5da9a8')\"\n",
              "              title=\"Convert this dataframe to an interactive table.\"\n",
              "              style=\"display:none;\">\n",
              "        \n",
              "  <svg xmlns=\"http://www.w3.org/2000/svg\" height=\"24px\"viewBox=\"0 0 24 24\"\n",
              "       width=\"24px\">\n",
              "    <path d=\"M0 0h24v24H0V0z\" fill=\"none\"/>\n",
              "    <path d=\"M18.56 5.44l.94 2.06.94-2.06 2.06-.94-2.06-.94-.94-2.06-.94 2.06-2.06.94zm-11 1L8.5 8.5l.94-2.06 2.06-.94-2.06-.94L8.5 2.5l-.94 2.06-2.06.94zm10 10l.94 2.06.94-2.06 2.06-.94-2.06-.94-.94-2.06-.94 2.06-2.06.94z\"/><path d=\"M17.41 7.96l-1.37-1.37c-.4-.4-.92-.59-1.43-.59-.52 0-1.04.2-1.43.59L10.3 9.45l-7.72 7.72c-.78.78-.78 2.05 0 2.83L4 21.41c.39.39.9.59 1.41.59.51 0 1.02-.2 1.41-.59l7.78-7.78 2.81-2.81c.8-.78.8-2.07 0-2.86zM5.41 20L4 18.59l7.72-7.72 1.47 1.35L5.41 20z\"/>\n",
              "  </svg>\n",
              "      </button>\n",
              "      \n",
              "  <style>\n",
              "    .colab-df-container {\n",
              "      display:flex;\n",
              "      flex-wrap:wrap;\n",
              "      gap: 12px;\n",
              "    }\n",
              "\n",
              "    .colab-df-convert {\n",
              "      background-color: #E8F0FE;\n",
              "      border: none;\n",
              "      border-radius: 50%;\n",
              "      cursor: pointer;\n",
              "      display: none;\n",
              "      fill: #1967D2;\n",
              "      height: 32px;\n",
              "      padding: 0 0 0 0;\n",
              "      width: 32px;\n",
              "    }\n",
              "\n",
              "    .colab-df-convert:hover {\n",
              "      background-color: #E2EBFA;\n",
              "      box-shadow: 0px 1px 2px rgba(60, 64, 67, 0.3), 0px 1px 3px 1px rgba(60, 64, 67, 0.15);\n",
              "      fill: #174EA6;\n",
              "    }\n",
              "\n",
              "    [theme=dark] .colab-df-convert {\n",
              "      background-color: #3B4455;\n",
              "      fill: #D2E3FC;\n",
              "    }\n",
              "\n",
              "    [theme=dark] .colab-df-convert:hover {\n",
              "      background-color: #434B5C;\n",
              "      box-shadow: 0px 1px 3px 1px rgba(0, 0, 0, 0.15);\n",
              "      filter: drop-shadow(0px 1px 2px rgba(0, 0, 0, 0.3));\n",
              "      fill: #FFFFFF;\n",
              "    }\n",
              "  </style>\n",
              "\n",
              "      <script>\n",
              "        const buttonEl =\n",
              "          document.querySelector('#df-20079ce6-6f92-4370-b057-84745a5da9a8 button.colab-df-convert');\n",
              "        buttonEl.style.display =\n",
              "          google.colab.kernel.accessAllowed ? 'block' : 'none';\n",
              "\n",
              "        async function convertToInteractive(key) {\n",
              "          const element = document.querySelector('#df-20079ce6-6f92-4370-b057-84745a5da9a8');\n",
              "          const dataTable =\n",
              "            await google.colab.kernel.invokeFunction('convertToInteractive',\n",
              "                                                     [key], {});\n",
              "          if (!dataTable) return;\n",
              "\n",
              "          const docLinkHtml = 'Like what you see? Visit the ' +\n",
              "            '<a target=\"_blank\" href=https://colab.research.google.com/notebooks/data_table.ipynb>data table notebook</a>'\n",
              "            + ' to learn more about interactive tables.';\n",
              "          element.innerHTML = '';\n",
              "          dataTable['output_type'] = 'display_data';\n",
              "          await google.colab.output.renderOutput(dataTable, element);\n",
              "          const docLink = document.createElement('div');\n",
              "          docLink.innerHTML = docLinkHtml;\n",
              "          element.appendChild(docLink);\n",
              "        }\n",
              "      </script>\n",
              "    </div>\n",
              "  </div>\n",
              "  "
            ]
          },
          "metadata": {},
          "execution_count": 65
        }
      ],
      "source": [
        "# loads csv file into pandas dataframe\n",
        "#df = pd.read_csv('https://raw.githubusercontent.com/PavelBodle/Tutorpoint_assignments/main/Questions-4058191010/Questions-4058191010/89bd5332-23b9-4271-851c-23d5fe260c82%20(1).csv', dtype=np.float64)\n",
        "df = pd.read_csv('https://raw.githubusercontent.com/PavelBodle/Tutorpoint_assignments/main/Questions-4058191010/Questions-4058191010/89bd5332-23b9-4271-851c-23d5fe260c82%20(1).csv')\n",
        "df.head(10)"
      ],
      "id": "measured-report"
    },
    {
      "cell_type": "code",
      "source": [
        "df.describe()"
      ],
      "metadata": {
        "colab": {
          "base_uri": "https://localhost:8080/",
          "height": 300
        },
        "id": "x4Mri7_MUNjS",
        "outputId": "75933407-51f3-47bd-cce3-cd3ed28f893f"
      },
      "id": "x4Mri7_MUNjS",
      "execution_count": 66,
      "outputs": [
        {
          "output_type": "execute_result",
          "data": {
            "text/plain": [
              "       sepal_length  sepal_width  petal_length  petal_width\n",
              "count    150.000000   150.000000    150.000000   150.000000\n",
              "mean       5.843333     3.054000      3.758667     1.198667\n",
              "std        0.828066     0.433594      1.764420     0.763161\n",
              "min        4.300000     2.000000      1.000000     0.100000\n",
              "25%        5.100000     2.800000      1.600000     0.300000\n",
              "50%        5.800000     3.000000      4.350000     1.300000\n",
              "75%        6.400000     3.300000      5.100000     1.800000\n",
              "max        7.900000     4.400000      6.900000     2.500000"
            ],
            "text/html": [
              "\n",
              "  <div id=\"df-8c4cf9ac-29b5-44cc-89fe-b779c8a01382\">\n",
              "    <div class=\"colab-df-container\">\n",
              "      <div>\n",
              "<style scoped>\n",
              "    .dataframe tbody tr th:only-of-type {\n",
              "        vertical-align: middle;\n",
              "    }\n",
              "\n",
              "    .dataframe tbody tr th {\n",
              "        vertical-align: top;\n",
              "    }\n",
              "\n",
              "    .dataframe thead th {\n",
              "        text-align: right;\n",
              "    }\n",
              "</style>\n",
              "<table border=\"1\" class=\"dataframe\">\n",
              "  <thead>\n",
              "    <tr style=\"text-align: right;\">\n",
              "      <th></th>\n",
              "      <th>sepal_length</th>\n",
              "      <th>sepal_width</th>\n",
              "      <th>petal_length</th>\n",
              "      <th>petal_width</th>\n",
              "    </tr>\n",
              "  </thead>\n",
              "  <tbody>\n",
              "    <tr>\n",
              "      <th>count</th>\n",
              "      <td>150.000000</td>\n",
              "      <td>150.000000</td>\n",
              "      <td>150.000000</td>\n",
              "      <td>150.000000</td>\n",
              "    </tr>\n",
              "    <tr>\n",
              "      <th>mean</th>\n",
              "      <td>5.843333</td>\n",
              "      <td>3.054000</td>\n",
              "      <td>3.758667</td>\n",
              "      <td>1.198667</td>\n",
              "    </tr>\n",
              "    <tr>\n",
              "      <th>std</th>\n",
              "      <td>0.828066</td>\n",
              "      <td>0.433594</td>\n",
              "      <td>1.764420</td>\n",
              "      <td>0.763161</td>\n",
              "    </tr>\n",
              "    <tr>\n",
              "      <th>min</th>\n",
              "      <td>4.300000</td>\n",
              "      <td>2.000000</td>\n",
              "      <td>1.000000</td>\n",
              "      <td>0.100000</td>\n",
              "    </tr>\n",
              "    <tr>\n",
              "      <th>25%</th>\n",
              "      <td>5.100000</td>\n",
              "      <td>2.800000</td>\n",
              "      <td>1.600000</td>\n",
              "      <td>0.300000</td>\n",
              "    </tr>\n",
              "    <tr>\n",
              "      <th>50%</th>\n",
              "      <td>5.800000</td>\n",
              "      <td>3.000000</td>\n",
              "      <td>4.350000</td>\n",
              "      <td>1.300000</td>\n",
              "    </tr>\n",
              "    <tr>\n",
              "      <th>75%</th>\n",
              "      <td>6.400000</td>\n",
              "      <td>3.300000</td>\n",
              "      <td>5.100000</td>\n",
              "      <td>1.800000</td>\n",
              "    </tr>\n",
              "    <tr>\n",
              "      <th>max</th>\n",
              "      <td>7.900000</td>\n",
              "      <td>4.400000</td>\n",
              "      <td>6.900000</td>\n",
              "      <td>2.500000</td>\n",
              "    </tr>\n",
              "  </tbody>\n",
              "</table>\n",
              "</div>\n",
              "      <button class=\"colab-df-convert\" onclick=\"convertToInteractive('df-8c4cf9ac-29b5-44cc-89fe-b779c8a01382')\"\n",
              "              title=\"Convert this dataframe to an interactive table.\"\n",
              "              style=\"display:none;\">\n",
              "        \n",
              "  <svg xmlns=\"http://www.w3.org/2000/svg\" height=\"24px\"viewBox=\"0 0 24 24\"\n",
              "       width=\"24px\">\n",
              "    <path d=\"M0 0h24v24H0V0z\" fill=\"none\"/>\n",
              "    <path d=\"M18.56 5.44l.94 2.06.94-2.06 2.06-.94-2.06-.94-.94-2.06-.94 2.06-2.06.94zm-11 1L8.5 8.5l.94-2.06 2.06-.94-2.06-.94L8.5 2.5l-.94 2.06-2.06.94zm10 10l.94 2.06.94-2.06 2.06-.94-2.06-.94-.94-2.06-.94 2.06-2.06.94z\"/><path d=\"M17.41 7.96l-1.37-1.37c-.4-.4-.92-.59-1.43-.59-.52 0-1.04.2-1.43.59L10.3 9.45l-7.72 7.72c-.78.78-.78 2.05 0 2.83L4 21.41c.39.39.9.59 1.41.59.51 0 1.02-.2 1.41-.59l7.78-7.78 2.81-2.81c.8-.78.8-2.07 0-2.86zM5.41 20L4 18.59l7.72-7.72 1.47 1.35L5.41 20z\"/>\n",
              "  </svg>\n",
              "      </button>\n",
              "      \n",
              "  <style>\n",
              "    .colab-df-container {\n",
              "      display:flex;\n",
              "      flex-wrap:wrap;\n",
              "      gap: 12px;\n",
              "    }\n",
              "\n",
              "    .colab-df-convert {\n",
              "      background-color: #E8F0FE;\n",
              "      border: none;\n",
              "      border-radius: 50%;\n",
              "      cursor: pointer;\n",
              "      display: none;\n",
              "      fill: #1967D2;\n",
              "      height: 32px;\n",
              "      padding: 0 0 0 0;\n",
              "      width: 32px;\n",
              "    }\n",
              "\n",
              "    .colab-df-convert:hover {\n",
              "      background-color: #E2EBFA;\n",
              "      box-shadow: 0px 1px 2px rgba(60, 64, 67, 0.3), 0px 1px 3px 1px rgba(60, 64, 67, 0.15);\n",
              "      fill: #174EA6;\n",
              "    }\n",
              "\n",
              "    [theme=dark] .colab-df-convert {\n",
              "      background-color: #3B4455;\n",
              "      fill: #D2E3FC;\n",
              "    }\n",
              "\n",
              "    [theme=dark] .colab-df-convert:hover {\n",
              "      background-color: #434B5C;\n",
              "      box-shadow: 0px 1px 3px 1px rgba(0, 0, 0, 0.15);\n",
              "      filter: drop-shadow(0px 1px 2px rgba(0, 0, 0, 0.3));\n",
              "      fill: #FFFFFF;\n",
              "    }\n",
              "  </style>\n",
              "\n",
              "      <script>\n",
              "        const buttonEl =\n",
              "          document.querySelector('#df-8c4cf9ac-29b5-44cc-89fe-b779c8a01382 button.colab-df-convert');\n",
              "        buttonEl.style.display =\n",
              "          google.colab.kernel.accessAllowed ? 'block' : 'none';\n",
              "\n",
              "        async function convertToInteractive(key) {\n",
              "          const element = document.querySelector('#df-8c4cf9ac-29b5-44cc-89fe-b779c8a01382');\n",
              "          const dataTable =\n",
              "            await google.colab.kernel.invokeFunction('convertToInteractive',\n",
              "                                                     [key], {});\n",
              "          if (!dataTable) return;\n",
              "\n",
              "          const docLinkHtml = 'Like what you see? Visit the ' +\n",
              "            '<a target=\"_blank\" href=https://colab.research.google.com/notebooks/data_table.ipynb>data table notebook</a>'\n",
              "            + ' to learn more about interactive tables.';\n",
              "          element.innerHTML = '';\n",
              "          dataTable['output_type'] = 'display_data';\n",
              "          await google.colab.output.renderOutput(dataTable, element);\n",
              "          const docLink = document.createElement('div');\n",
              "          docLink.innerHTML = docLinkHtml;\n",
              "          element.appendChild(docLink);\n",
              "        }\n",
              "      </script>\n",
              "    </div>\n",
              "  </div>\n",
              "  "
            ]
          },
          "metadata": {},
          "execution_count": 66
        }
      ]
    },
    {
      "cell_type": "markdown",
      "metadata": {
        "id": "twelve-skill"
      },
      "source": [
        "#### STEP 2 - \n",
        "Split the Data into different training subsets and testing split \n",
        "\n",
        "( 40% Training - Subset1, 40% Training - Subset2 and 20% Testing) \n",
        "\n",
        "Hint: The train_test split with stratify function is already imported earlier in the notebook\n",
        "\n",
        "( 5 Points)"
      ],
      "id": "twelve-skill"
    },
    {
      "cell_type": "code",
      "execution_count": 67,
      "metadata": {
        "id": "downtown-antarctica",
        "colab": {
          "base_uri": "https://localhost:8080/"
        },
        "outputId": "77e7bafb-2524-4943-f03e-ee5207cce586"
      },
      "outputs": [
        {
          "output_type": "stream",
          "name": "stdout",
          "text": [
            "   sepal_length  sepal_width  petal_length  petal_width\n",
            "0           5.1          3.5           1.4          0.2\n",
            "1           4.9          3.0           1.4          0.2\n",
            "2           4.7          3.2           1.3          0.2\n",
            "3           4.6          3.1           1.5          0.2\n",
            "4           5.0          3.6           1.4          0.2\n",
            "0    Iris-setosa\n",
            "1    Iris-setosa\n",
            "2    Iris-setosa\n",
            "3    Iris-setosa\n",
            "4    Iris-setosa\n",
            "Name: species, dtype: object\n",
            "(150, 4)\n",
            "(150,)\n",
            "(120, 4)\n",
            "(120,)\n",
            "(30, 4)\n",
            "(30,)\n"
          ]
        }
      ],
      "source": [
        "#STEP 2\n",
        "X = df.drop(['species'], axis=1)\n",
        "y = df['species']\n",
        "print(X.head())\n",
        "print(y.head())\n",
        "print(X.shape)\n",
        "print(y.shape)\n",
        "X_train, X_test, y_train, y_test = train_test_split(X, y, test_size=0.2, random_state=5)\n",
        "print(X_train.shape)\n",
        "print(y_train.shape)\n",
        "print(X_test.shape)\n",
        "print(y_test.shape)"
      ],
      "id": "downtown-antarctica"
    },
    {
      "cell_type": "markdown",
      "metadata": {
        "id": "v8ZbST9ePwlW"
      },
      "source": [
        "### Perform Steps 3 to 7 for each subset"
      ],
      "id": "v8ZbST9ePwlW"
    },
    {
      "cell_type": "markdown",
      "metadata": {
        "id": "theoretical-allergy"
      },
      "source": [
        "#### STEP 3 - Calculate the posterior probability for each class (20 Points)\n",
        "\n",
        "Calculate the prior probability and likelihood, followed by evidence calculation and finally the posterior probability using Bayes Rule\n",
        "\n",
        "You can write everything in the cell below or add more cells as needed especially if you want to write a helper function which you use to do this"
      ],
      "id": "theoretical-allergy"
    },
    {
      "cell_type": "code",
      "execution_count": 68,
      "metadata": {
        "id": "civilian-lounge",
        "colab": {
          "base_uri": "https://localhost:8080/"
        },
        "outputId": "2a6f7180-b14c-4c75-e02d-54a01bdfb4bd"
      },
      "outputs": [
        {
          "output_type": "execute_result",
          "data": {
            "text/plain": [
              "array(['Iris-versicolor', 'Iris-versicolor', 'Iris-virginica',\n",
              "       'Iris-setosa', 'Iris-virginica', 'Iris-versicolor', 'Iris-setosa',\n",
              "       'Iris-virginica', 'Iris-setosa', 'Iris-versicolor',\n",
              "       'Iris-versicolor', 'Iris-versicolor', 'Iris-virginica',\n",
              "       'Iris-virginica', 'Iris-setosa', 'Iris-setosa', 'Iris-virginica',\n",
              "       'Iris-virginica', 'Iris-setosa', 'Iris-setosa', 'Iris-versicolor',\n",
              "       'Iris-virginica', 'Iris-setosa', 'Iris-versicolor',\n",
              "       'Iris-versicolor', 'Iris-virginica', 'Iris-versicolor',\n",
              "       'Iris-versicolor', 'Iris-versicolor', 'Iris-virginica'],\n",
              "      dtype='<U15')"
            ]
          },
          "metadata": {},
          "execution_count": 68
        }
      ],
      "source": [
        "#STEP 3\n",
        "from sklearn.naive_bayes import GaussianNB\n",
        "from sklearn.metrics import make_scorer, accuracy_score,precision_score,confusion_matrix,recall_score,f1_score\n",
        "gaussian = GaussianNB()\n",
        "gaussian.fit(X_train, y_train)\n",
        "Y_pred = gaussian.predict(X_test) \n",
        "Y_pred"
      ],
      "id": "civilian-lounge"
    },
    {
      "cell_type": "markdown",
      "metadata": {
        "id": "prostate-disney"
      },
      "source": [
        "#### STEP 4 - Calculate probability of error for each class (10 Points)\n",
        "\n",
        "Please refer the slides for this section."
      ],
      "id": "prostate-disney"
    },
    {
      "cell_type": "code",
      "execution_count": 69,
      "metadata": {
        "id": "absolute-associate",
        "colab": {
          "base_uri": "https://localhost:8080/",
          "height": 206
        },
        "outputId": "d64f16b3-1781-457b-c32b-86d24b8008af"
      },
      "outputs": [
        {
          "output_type": "execute_result",
          "data": {
            "text/plain": [
              "         Real Values Predicted Values\n",
              "82   Iris-versicolor  Iris-versicolor\n",
              "134   Iris-virginica  Iris-versicolor\n",
              "114   Iris-virginica   Iris-virginica\n",
              "42       Iris-setosa      Iris-setosa\n",
              "109   Iris-virginica   Iris-virginica"
            ],
            "text/html": [
              "\n",
              "  <div id=\"df-1acbc756-a095-4637-a137-9b544e62951e\">\n",
              "    <div class=\"colab-df-container\">\n",
              "      <div>\n",
              "<style scoped>\n",
              "    .dataframe tbody tr th:only-of-type {\n",
              "        vertical-align: middle;\n",
              "    }\n",
              "\n",
              "    .dataframe tbody tr th {\n",
              "        vertical-align: top;\n",
              "    }\n",
              "\n",
              "    .dataframe thead th {\n",
              "        text-align: right;\n",
              "    }\n",
              "</style>\n",
              "<table border=\"1\" class=\"dataframe\">\n",
              "  <thead>\n",
              "    <tr style=\"text-align: right;\">\n",
              "      <th></th>\n",
              "      <th>Real Values</th>\n",
              "      <th>Predicted Values</th>\n",
              "    </tr>\n",
              "  </thead>\n",
              "  <tbody>\n",
              "    <tr>\n",
              "      <th>82</th>\n",
              "      <td>Iris-versicolor</td>\n",
              "      <td>Iris-versicolor</td>\n",
              "    </tr>\n",
              "    <tr>\n",
              "      <th>134</th>\n",
              "      <td>Iris-virginica</td>\n",
              "      <td>Iris-versicolor</td>\n",
              "    </tr>\n",
              "    <tr>\n",
              "      <th>114</th>\n",
              "      <td>Iris-virginica</td>\n",
              "      <td>Iris-virginica</td>\n",
              "    </tr>\n",
              "    <tr>\n",
              "      <th>42</th>\n",
              "      <td>Iris-setosa</td>\n",
              "      <td>Iris-setosa</td>\n",
              "    </tr>\n",
              "    <tr>\n",
              "      <th>109</th>\n",
              "      <td>Iris-virginica</td>\n",
              "      <td>Iris-virginica</td>\n",
              "    </tr>\n",
              "  </tbody>\n",
              "</table>\n",
              "</div>\n",
              "      <button class=\"colab-df-convert\" onclick=\"convertToInteractive('df-1acbc756-a095-4637-a137-9b544e62951e')\"\n",
              "              title=\"Convert this dataframe to an interactive table.\"\n",
              "              style=\"display:none;\">\n",
              "        \n",
              "  <svg xmlns=\"http://www.w3.org/2000/svg\" height=\"24px\"viewBox=\"0 0 24 24\"\n",
              "       width=\"24px\">\n",
              "    <path d=\"M0 0h24v24H0V0z\" fill=\"none\"/>\n",
              "    <path d=\"M18.56 5.44l.94 2.06.94-2.06 2.06-.94-2.06-.94-.94-2.06-.94 2.06-2.06.94zm-11 1L8.5 8.5l.94-2.06 2.06-.94-2.06-.94L8.5 2.5l-.94 2.06-2.06.94zm10 10l.94 2.06.94-2.06 2.06-.94-2.06-.94-.94-2.06-.94 2.06-2.06.94z\"/><path d=\"M17.41 7.96l-1.37-1.37c-.4-.4-.92-.59-1.43-.59-.52 0-1.04.2-1.43.59L10.3 9.45l-7.72 7.72c-.78.78-.78 2.05 0 2.83L4 21.41c.39.39.9.59 1.41.59.51 0 1.02-.2 1.41-.59l7.78-7.78 2.81-2.81c.8-.78.8-2.07 0-2.86zM5.41 20L4 18.59l7.72-7.72 1.47 1.35L5.41 20z\"/>\n",
              "  </svg>\n",
              "      </button>\n",
              "      \n",
              "  <style>\n",
              "    .colab-df-container {\n",
              "      display:flex;\n",
              "      flex-wrap:wrap;\n",
              "      gap: 12px;\n",
              "    }\n",
              "\n",
              "    .colab-df-convert {\n",
              "      background-color: #E8F0FE;\n",
              "      border: none;\n",
              "      border-radius: 50%;\n",
              "      cursor: pointer;\n",
              "      display: none;\n",
              "      fill: #1967D2;\n",
              "      height: 32px;\n",
              "      padding: 0 0 0 0;\n",
              "      width: 32px;\n",
              "    }\n",
              "\n",
              "    .colab-df-convert:hover {\n",
              "      background-color: #E2EBFA;\n",
              "      box-shadow: 0px 1px 2px rgba(60, 64, 67, 0.3), 0px 1px 3px 1px rgba(60, 64, 67, 0.15);\n",
              "      fill: #174EA6;\n",
              "    }\n",
              "\n",
              "    [theme=dark] .colab-df-convert {\n",
              "      background-color: #3B4455;\n",
              "      fill: #D2E3FC;\n",
              "    }\n",
              "\n",
              "    [theme=dark] .colab-df-convert:hover {\n",
              "      background-color: #434B5C;\n",
              "      box-shadow: 0px 1px 3px 1px rgba(0, 0, 0, 0.15);\n",
              "      filter: drop-shadow(0px 1px 2px rgba(0, 0, 0, 0.3));\n",
              "      fill: #FFFFFF;\n",
              "    }\n",
              "  </style>\n",
              "\n",
              "      <script>\n",
              "        const buttonEl =\n",
              "          document.querySelector('#df-1acbc756-a095-4637-a137-9b544e62951e button.colab-df-convert');\n",
              "        buttonEl.style.display =\n",
              "          google.colab.kernel.accessAllowed ? 'block' : 'none';\n",
              "\n",
              "        async function convertToInteractive(key) {\n",
              "          const element = document.querySelector('#df-1acbc756-a095-4637-a137-9b544e62951e');\n",
              "          const dataTable =\n",
              "            await google.colab.kernel.invokeFunction('convertToInteractive',\n",
              "                                                     [key], {});\n",
              "          if (!dataTable) return;\n",
              "\n",
              "          const docLinkHtml = 'Like what you see? Visit the ' +\n",
              "            '<a target=\"_blank\" href=https://colab.research.google.com/notebooks/data_table.ipynb>data table notebook</a>'\n",
              "            + ' to learn more about interactive tables.';\n",
              "          element.innerHTML = '';\n",
              "          dataTable['output_type'] = 'display_data';\n",
              "          await google.colab.output.renderOutput(dataTable, element);\n",
              "          const docLink = document.createElement('div');\n",
              "          docLink.innerHTML = docLinkHtml;\n",
              "          element.appendChild(docLink);\n",
              "        }\n",
              "      </script>\n",
              "    </div>\n",
              "  </div>\n",
              "  "
            ]
          },
          "metadata": {},
          "execution_count": 69
        }
      ],
      "source": [
        "#STEP 4\n",
        "df_1 = pd.DataFrame({'Real Values':y_test, 'Predicted Values':Y_pred})\n",
        "df_1.head(5)"
      ],
      "id": "absolute-associate"
    },
    {
      "cell_type": "markdown",
      "metadata": {
        "id": "moved-parking"
      },
      "source": [
        "#### STEP 5 - Caculate the conditional risk (30 Points)\n",
        " 5.1 Consider the range for calculation of lambda between {0, 0.25, 0.5, 0.75, 1}\n",
        " \n",
        " 5.2 Caclulate the Conditional Risk for every class (10 Points)\n",
        " \n",
        " 5.3 Caclulate the overall risk (10 Points)\n",
        " \n",
        " 5.4 Calculate the lambda for minimum Bayes' Risk.(10 Points)\n",
        " \n",
        " Note: you may want to use the code discussed in class, but you need to be able to extend the functions like action() so that loss components can be used to weigh the corresponding postrior probability to compute the risks."
      ],
      "id": "moved-parking"
    },
    {
      "cell_type": "code",
      "execution_count": 70,
      "metadata": {
        "id": "alleged-diary",
        "colab": {
          "base_uri": "https://localhost:8080/"
        },
        "outputId": "ea54327b-49a0-4c63-ae2f-ca48e4cda10e"
      },
      "outputs": [
        {
          "output_type": "execute_result",
          "data": {
            "text/plain": [
              "array([[3.85186437e-062, 9.99981862e-001, 1.81383617e-005],\n",
              "       [4.11762231e-147, 6.30886847e-001, 3.69113153e-001],\n",
              "       [4.40369341e-192, 4.91363271e-007, 9.99999509e-001],\n",
              "       [1.00000000e+000, 1.15241083e-018, 4.52114897e-027],\n",
              "       [2.72071967e-263, 1.22602746e-012, 1.00000000e+000],\n",
              "       [1.36631330e-034, 9.99999868e-001, 1.32443809e-007],\n",
              "       [1.00000000e+000, 2.44606572e-017, 5.38709243e-026],\n",
              "       [3.90111679e-129, 1.07634152e-001, 8.92365848e-001],\n",
              "       [1.00000000e+000, 5.22660585e-016, 1.15330654e-024],\n",
              "       [2.56211811e-097, 9.91260655e-001, 8.73934453e-003],\n",
              "       [8.78468346e-098, 9.89683769e-001, 1.03162310e-002],\n",
              "       [4.25792766e-127, 7.68601918e-001, 2.31398082e-001],\n",
              "       [2.74329911e-216, 1.47076918e-007, 9.99999853e-001],\n",
              "       [4.02850562e-220, 1.76713485e-006, 9.99998233e-001],\n",
              "       [1.00000000e+000, 3.92250315e-014, 2.47272069e-022],\n",
              "       [1.00000000e+000, 5.11428933e-011, 3.46196407e-019],\n",
              "       [4.36601737e-136, 1.07467031e-001, 8.92532969e-001],\n",
              "       [2.32445137e-215, 1.10894386e-006, 9.99998891e-001],\n",
              "       [1.00000000e+000, 1.64251760e-015, 2.02707094e-023],\n",
              "       [1.00000000e+000, 2.02664599e-018, 4.78050848e-027],\n",
              "       [8.56681295e-071, 9.99854360e-001, 1.45639852e-004],\n",
              "       [2.96456695e-195, 7.60711220e-006, 9.99992393e-001],\n",
              "       [1.00000000e+000, 4.92753282e-018, 5.60981695e-026],\n",
              "       [3.06898217e-118, 9.46810579e-001, 5.31894215e-002],\n",
              "       [1.85977005e-072, 9.99826922e-001, 1.73077694e-004],\n",
              "       [2.43309175e-199, 1.39231761e-007, 9.99999861e-001],\n",
              "       [1.05911565e-082, 9.99040188e-001, 9.59812044e-004],\n",
              "       [1.29066272e-076, 9.99775997e-001, 2.24002949e-004],\n",
              "       [9.37505761e-103, 9.89719162e-001, 1.02808383e-002],\n",
              "       [1.70305613e-203, 9.85874737e-007, 9.99999014e-001]])"
            ]
          },
          "metadata": {},
          "execution_count": 70
        }
      ],
      "source": [
        "# STEP 5\n",
        "r_probs = [0 for _ in range(len(y_test))]\n",
        "gaussian_probs = gaussian.predict_proba(X_test)\n",
        "gaussian_probs"
      ],
      "id": "alleged-diary"
    },
    {
      "cell_type": "markdown",
      "metadata": {
        "id": "4fND6lekPwlh"
      },
      "source": [
        "### STEP 6 - Calculate the discriminant Function (20 Points)\n",
        "\n",
        "6.1 Case I: $\\mathbb{E}_{i} = \\sigma^2 * I$\n",
        "\n",
        "Consider the case where features are statistically independent, and each feature has the same variance, i.e $ \\sigma^2 $. (10 Points)\n",
        "\n",
        "\n",
        "\n",
        "6.2 Case II: $\\mathbb{E}_{i} = \\mathbb{E} $\n",
        "\n",
        " Consider the case where the covariance matrices for all of the classes are identical but otherwise arbitrary.(10 Points)\n",
        "\n",
        "Note: we would like you see creating a function with class specific mean and variance as the parameters and then compute the function for your chosen example dataset. Sample mean can be used for your class specific mean and prior can be computed from the collection, we have discussed the code in class. You can choose a range of values for $ \\sigma^2 $ and $\\mathbb{E}$ to generate the discriminant functions, so possible choices could be values around the sample variance or sample coveriance matrices. "
      ],
      "id": "4fND6lekPwlh"
    },
    {
      "cell_type": "code",
      "execution_count": 71,
      "metadata": {
        "id": "oigsK40SPwlj",
        "colab": {
          "base_uri": "https://localhost:8080/"
        },
        "outputId": "4707ce6c-9151-418e-a46f-e08cb3dcbcd1"
      },
      "outputs": [
        {
          "output_type": "execute_result",
          "data": {
            "text/plain": [
              "array([9.99981862e-01, 6.30886847e-01, 4.91363271e-07, 1.15241083e-18,\n",
              "       1.22602746e-12, 9.99999868e-01, 2.44606572e-17, 1.07634152e-01,\n",
              "       5.22660585e-16, 9.91260655e-01, 9.89683769e-01, 7.68601918e-01,\n",
              "       1.47076918e-07, 1.76713485e-06, 3.92250315e-14, 5.11428933e-11,\n",
              "       1.07467031e-01, 1.10894386e-06, 1.64251760e-15, 2.02664599e-18,\n",
              "       9.99854360e-01, 7.60711220e-06, 4.92753282e-18, 9.46810579e-01,\n",
              "       9.99826922e-01, 1.39231761e-07, 9.99040188e-01, 9.99775997e-01,\n",
              "       9.89719162e-01, 9.85874737e-07])"
            ]
          },
          "metadata": {},
          "execution_count": 71
        }
      ],
      "source": [
        "# STEP 6\n",
        "nb_probs = gaussian_probs[:, 1]\n",
        "nb_probs"
      ],
      "id": "oigsK40SPwlj"
    },
    {
      "cell_type": "markdown",
      "metadata": {
        "id": "fuzzy-prairie"
      },
      "source": [
        "#### STEP 7 - Evaluate the Model ( 15 Points)\n",
        "7.1 Plot the AUC - ROC Curve. (5 Points)\n",
        "\n",
        "7.2 Evaluate the Precision, Recall, F1-Score. (10 Points)\n",
        "N\n"
      ],
      "id": "fuzzy-prairie"
    },
    {
      "cell_type": "code",
      "execution_count": 72,
      "metadata": {
        "id": "outstanding-jewel",
        "colab": {
          "base_uri": "https://localhost:8080/"
        },
        "outputId": "70d2ff4d-d947-4e85-ffdd-4ca87d4d7af5"
      },
      "outputs": [
        {
          "output_type": "stream",
          "name": "stdout",
          "text": [
            "Confusion matrix for Naive Bayes\n",
            " [[ 8  0  0]\n",
            " [ 0 10  1]\n",
            " [ 0  2  9]]\n",
            "accuracy_Naive Bayes: 0.900\n",
            "precision_Naive Bayes: 0.900\n",
            "recall_Naive Bayes: 0.900\n",
            "f1-score_Naive Bayes : 0.900\n"
          ]
        }
      ],
      "source": [
        "# STEP 7\n",
        "\n",
        "accuracy_nb=round(accuracy_score(y_test,Y_pred)* 100, 2)\n",
        "acc_gaussian = round(gaussian.score(X_train, y_train) * 100, 2)\n",
        "cm = confusion_matrix(y_test, Y_pred)\n",
        "accuracy = accuracy_score(y_test,Y_pred)\n",
        "precision =precision_score(y_test, Y_pred,average='micro')\n",
        "recall =  recall_score(y_test, Y_pred,average='micro')\n",
        "f1 = f1_score(y_test,Y_pred,average='micro')\n",
        "print('Confusion matrix for Naive Bayes\\n',cm)\n",
        "print('accuracy_Naive Bayes: %.3f' %accuracy)\n",
        "print('precision_Naive Bayes: %.3f' %precision)\n",
        "print('recall_Naive Bayes: %.3f' %recall)\n",
        "print('f1-score_Naive Bayes : %.3f' %f1)"
      ],
      "id": "outstanding-jewel"
    },
    {
      "cell_type": "markdown",
      "metadata": {
        "id": "gVM5_0s7AAGU"
      },
      "source": [
        "## Useful Library references\n",
        "\n",
        "  [test_train_split function](https://scikit-learn.org/stable/modules/generated/sklearn.model_selection.train_test_split.html#sklearn.model_selection.train_test_split)\n",
        "\n",
        "\n",
        "[Matplotlib Documentation](https://matplotlib.org/)\n",
        "\n",
        "## Slides Reference \n",
        "\n",
        "  ["
      ],
      "id": "gVM5_0s7AAGU"
    },
    {
      "cell_type": "markdown",
      "metadata": {
        "id": "5DsvauTuPwln"
      },
      "source": [],
      "id": "5DsvauTuPwln"
    }
  ],
  "metadata": {
    "colab": {
      "provenance": [],
      "include_colab_link": true
    },
    "kernelspec": {
      "display_name": "Python 2",
      "language": "python",
      "name": "python2"
    },
    "language_info": {
      "codemirror_mode": {
        "name": "ipython",
        "version": 2
      },
      "file_extension": ".py",
      "mimetype": "text/x-python",
      "name": "python",
      "nbconvert_exporter": "python",
      "pygments_lexer": "ipython2",
      "version": "2.7.16"
    },
    "vscode": {
      "interpreter": {
        "hash": "e9b6ec37e637cd3e803c118a71b613857246f1b2c904a4f7d27686ec84d262ff"
      }
    }
  },
  "nbformat": 4,
  "nbformat_minor": 5
}
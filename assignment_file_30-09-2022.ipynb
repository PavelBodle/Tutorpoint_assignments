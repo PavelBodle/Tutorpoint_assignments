{
  "cells": [
    {
      "cell_type": "markdown",
      "metadata": {
        "id": "view-in-github",
        "colab_type": "text"
      },
      "source": [
        "<a href=\"https://colab.research.google.com/github/PavelBodle/Tutorpoint_assignments/blob/main/assignment_file_30-09-2022.ipynb\" target=\"_parent\"><img src=\"https://colab.research.google.com/assets/colab-badge.svg\" alt=\"Open In Colab\"/></a>"
      ]
    },
    {
      "cell_type": "markdown",
      "metadata": {
        "id": "ekCK9hXyPwk8"
      },
      "source": [
        "### INSTRUCTIONS - Assignment 1\n",
        "\n",
        "- Submit only the ipynb file with file format main_{UBID}.ipynb (e.g. main_50370999.ipynb), Submission other than this format will get zero.\n",
        "- Don't submit the zip folder.\n",
        "- We will run all the cells from start to finish, if we get any error or cell stuck for more than 20 sec. will get zero for that problem. So make sure ipynb file run from start to finish before submitting.\n",
        "\n",
        "- Refrain from using Sklearn library unless explicitly mentioned.\n",
        "\n",
        "- Don't import additional libraries in the file.\n"
      ],
      "id": "ekCK9hXyPwk8"
    },
    {
      "cell_type": "code",
      "execution_count": null,
      "metadata": {
        "id": "planned-perry"
      },
      "outputs": [],
      "source": [
        "# imports\n",
        "import pandas as pd\n",
        "import numpy as np\n",
        "from sklearn.model_selection import train_test_split\n",
        "import matplotlib.pyplot as plt\n",
        "\n",
        "%matplotlib inline"
      ],
      "id": "planned-perry"
    },
    {
      "cell_type": "markdown",
      "metadata": {
        "id": "traditional-tissue"
      },
      "source": [
        "#### STEP 1 - Load Data"
      ],
      "id": "traditional-tissue"
    },
    {
      "cell_type": "code",
      "execution_count": null,
      "metadata": {
        "id": "measured-report"
      },
      "outputs": [],
      "source": [
        "# loads csv file into pandas dataframe\n",
        "df = pd.read_csv('data.csv', dtype=np.float64)"
      ],
      "id": "measured-report"
    },
    {
      "cell_type": "markdown",
      "metadata": {
        "id": "twelve-skill"
      },
      "source": [
        "#### STEP 2 - \n",
        "Split the Data into different training subsets and testing split \n",
        "\n",
        "( 40% Training - Subset1, 40% Training - Subset2 and 20% Testing) \n",
        "\n",
        "Hint: The train_test split with stratify function is already imported earlier in the notebook\n",
        "\n",
        "( 5 Points)"
      ],
      "id": "twelve-skill"
    },
    {
      "cell_type": "code",
      "execution_count": null,
      "metadata": {
        "id": "downtown-antarctica"
      },
      "outputs": [],
      "source": [
        "#STEP 2"
      ],
      "id": "downtown-antarctica"
    },
    {
      "cell_type": "markdown",
      "metadata": {
        "id": "v8ZbST9ePwlW"
      },
      "source": [
        "### Perform Steps 3 to 7 for each subset"
      ],
      "id": "v8ZbST9ePwlW"
    },
    {
      "cell_type": "markdown",
      "metadata": {
        "id": "theoretical-allergy"
      },
      "source": [
        "#### STEP 3 - Calculate the posterior probability for each class (20 Points)\n",
        "\n",
        "Calculate the prior probability and likelihood, followed by evidence calculation and finally the posterior probability using Bayes Rule\n",
        "\n",
        "You can write everything in the cell below or add more cells as needed especially if you want to write a helper function which you use to do this"
      ],
      "id": "theoretical-allergy"
    },
    {
      "cell_type": "code",
      "execution_count": null,
      "metadata": {
        "id": "civilian-lounge"
      },
      "outputs": [],
      "source": [
        "#STEP 3"
      ],
      "id": "civilian-lounge"
    },
    {
      "cell_type": "markdown",
      "metadata": {
        "id": "prostate-disney"
      },
      "source": [
        "#### STEP 4 - Calculate probability of error for each class (10 Points)\n",
        "\n",
        "Please refer the slides for this section."
      ],
      "id": "prostate-disney"
    },
    {
      "cell_type": "code",
      "execution_count": null,
      "metadata": {
        "id": "absolute-associate"
      },
      "outputs": [],
      "source": [
        "#STEP 4\n"
      ],
      "id": "absolute-associate"
    },
    {
      "cell_type": "markdown",
      "metadata": {
        "id": "moved-parking"
      },
      "source": [
        "#### STEP 5 - Caculate the conditional risk (30 Points)\n",
        " 5.1 Consider the range for calculation of lambda between {0, 0.25, 0.5, 0.75, 1}\n",
        " \n",
        " 5.2 Caclulate the Conditional Risk for every class (10 Points)\n",
        " \n",
        " 5.3 Caclulate the overall risk (10 Points)\n",
        " \n",
        " 5.4 Calculate the lambda for minimum Bayes' Risk.(10 Points)\n",
        " \n",
        " Note: you may want to use the code discussed in class, but you need to be able to extend the functions like action() so that loss components can be used to weigh the corresponding postrior probability to compute the risks."
      ],
      "id": "moved-parking"
    },
    {
      "cell_type": "code",
      "execution_count": null,
      "metadata": {
        "id": "alleged-diary"
      },
      "outputs": [],
      "source": [
        "# STEP 5\n"
      ],
      "id": "alleged-diary"
    },
    {
      "cell_type": "markdown",
      "metadata": {
        "id": "4fND6lekPwlh"
      },
      "source": [
        "### STEP 6 - Calculate the discriminant Function (20 Points)\n",
        "\n",
        "6.1 Case I: $\\mathbb{E}_{i} = \\sigma^2 * I$\n",
        "\n",
        "Consider the case where features are statistically independent, and each feature has the same variance, i.e $ \\sigma^2 $. (10 Points)\n",
        "\n",
        "\n",
        "\n",
        "6.2 Case II: $\\mathbb{E}_{i} = \\mathbb{E} $\n",
        "\n",
        " Consider the case where the covariance matrices for all of the classes are identical but otherwise arbitrary.(10 Points)\n",
        "\n",
        "Note: we would like you see creating a function with class specific mean and variance as the parameters and then compute the function for your chosen example dataset. Sample mean can be used for your class specific mean and prior can be computed from the collection, we have discussed the code in class. You can choose a range of values for $ \\sigma^2 $ and $\\mathbb{E}$ to generate the discriminant functions, so possible choices could be values around the sample variance or sample coveriance matrices. "
      ],
      "id": "4fND6lekPwlh"
    },
    {
      "cell_type": "code",
      "execution_count": null,
      "metadata": {
        "id": "oigsK40SPwlj"
      },
      "outputs": [],
      "source": [
        "# STEP 6\n"
      ],
      "id": "oigsK40SPwlj"
    },
    {
      "cell_type": "markdown",
      "metadata": {
        "id": "fuzzy-prairie"
      },
      "source": [
        "#### STEP 7 - Evaluate the Model ( 15 Points)\n",
        "7.1 Plot the AUC - ROC Curve. (5 Points)\n",
        "\n",
        "7.2 Evaluate the Precision, Recall, F1-Score. (10 Points)\n",
        "N\n"
      ],
      "id": "fuzzy-prairie"
    },
    {
      "cell_type": "code",
      "execution_count": null,
      "metadata": {
        "id": "outstanding-jewel"
      },
      "outputs": [],
      "source": [
        "# STEP 7\n"
      ],
      "id": "outstanding-jewel"
    },
    {
      "cell_type": "markdown",
      "metadata": {
        "id": "gVM5_0s7AAGU"
      },
      "source": [
        "## Useful Library references\n",
        "\n",
        "  [test_train_split function](https://scikit-learn.org/stable/modules/generated/sklearn.model_selection.train_test_split.html#sklearn.model_selection.train_test_split)\n",
        "\n",
        "\n",
        "[Matplotlib Documentation](https://matplotlib.org/)\n",
        "\n",
        "## Slides Reference \n",
        "\n",
        "  ["
      ],
      "id": "gVM5_0s7AAGU"
    },
    {
      "cell_type": "markdown",
      "metadata": {
        "id": "5DsvauTuPwln"
      },
      "source": [],
      "id": "5DsvauTuPwln"
    }
  ],
  "metadata": {
    "colab": {
      "provenance": [],
      "include_colab_link": true
    },
    "kernelspec": {
      "display_name": "Python 2",
      "language": "python",
      "name": "python2"
    },
    "language_info": {
      "codemirror_mode": {
        "name": "ipython",
        "version": 2
      },
      "file_extension": ".py",
      "mimetype": "text/x-python",
      "name": "python",
      "nbconvert_exporter": "python",
      "pygments_lexer": "ipython2",
      "version": "2.7.16"
    },
    "vscode": {
      "interpreter": {
        "hash": "e9b6ec37e637cd3e803c118a71b613857246f1b2c904a4f7d27686ec84d262ff"
      }
    }
  },
  "nbformat": 4,
  "nbformat_minor": 5
}